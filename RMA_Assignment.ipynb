{
 "cells": [
  {
   "cell_type": "markdown",
   "id": "dental-joining",
   "metadata": {
    "Collapsed": "false",
    "id": "conservative-reporter"
   },
   "source": [
    "# RMA (Return Merchandise Authorization) Prediction assignment"
   ]
  },
  {
   "cell_type": "markdown",
   "id": "sought-halloween",
   "metadata": {
    "Collapsed": "false",
    "id": "pharmaceutical-geography",
    "tags": []
   },
   "source": [
    "**Welcome to 'RMA Prediction' assignment, Below is a brief background:**\n",
    "\n",
    "Return merchandise authorization (RMA) is the process of returning a product to receive a refund, replacement, or repair during the product's warranty period. \n",
    "\n",
    "In the chip manufacturing industry, in particular, the manufacturers have an interest in detect these units before it being shipped and reach the market for a few reasons:\n",
    "\n",
    "- The cost of a single unit during production is nil, compared to replacing an entire end device that causes several times more damage\n",
    "\n",
    "- The damage done to a company's reputation when a new device is returned as bad one can be very significant\n",
    "\n",
    "- A malfunctioning unit can cause significant damage (you don't want such bad unit placed in ABS system of your car :) )\n",
    "\n",
    "There are detailed test programs in which thousands of tests are performed on chips during production to ensure quality and prevent such cases.\n",
    "\n",
    "RMA units along with non-RMA units have passed all test cycles properly, and yet have been found to be defective in the field.\n",
    "\n",
    "The manufacturers are aware that there are such units and their goal is to predict which units will be malfunctioning soon even though they now appear to be working properly. Once predicting such units, they will mark them as bad and not ship them to customers.\n",
    "Secondary goal is to avoid excessive scrap of good units by marking good units as bad to avoid significant financial loss.\n",
    "\n",
    "\n",
    "This use case is called \"RMA Prediction\" and this is the challenge you are required to deal with in this assignment!\n",
    "\n",
    "**Technical notes:**\n",
    "\n",
    "- Please follow the steps in this notebook\n",
    "\n",
    "- Please write all your code inside this notebook only\n",
    "\n",
    "- Please feel free to add more cells as you need\n",
    "\n",
    "- The goal of this assigment is not only the best model:\n",
    "    - there is also value in clean code, and in orderly and clear work\n",
    "    - Use visualizations and comments on the reasons for the actions you take\n",
    "    - It is recommended to show in the notebook also experiments you tried along the way\n",
    "\n",
    "\n",
    "- Avoid over-fitting. \n",
    "\n",
    "    - Your prediction results will be tested on a test set that its lables are not available to you\n",
    "\n",
    "\n",
    "Good Luck!"
   ]
  },
  {
   "cell_type": "markdown",
   "id": "ready-renewal",
   "metadata": {
    "Collapsed": "false",
    "id": "russian-expression"
   },
   "source": [
    "# Packages\n",
    "\n",
    "First, import all the packages you'll need during this assignment. You can finish successfully this assigment with these packages only but feel free to use more libraries if you find it helpful\n",
    "\n",
    "- [numpy](www.numpy.org) is the main package for scientific computing with Python.\n",
    "- [pandas](https://pandas.pydata.org/) is a fast, powerful, flexible and easy to use open source data analysis and manipulation tool.\n",
    "- [matplotlib](http://matplotlib.org) is a library to plot graphs in Python.\n",
    "- [sklearn](https://scikit-learn.org/stable/) is the most useful and robust library for machine learning in Python.\n",
    "- [f1_score](https://scikit-learn.org/stable/modules/generated/sklearn.metrics.f1_score.html) Is the metric you should use to evaluate the performance of your model.\n",
    "- [pickle](https://docs.python.org/3/library/pickle.html) is a library for serializing and de-serializing Python object structures, also called marshalling or flattening\n",
    "- np.random.seed(1) is used to keep all the random function calls consistent. It helps grade your work. Please don't change the seed! "
   ]
  },
  {
   "cell_type": "code",
   "execution_count": 13,
   "id": "worth-colonial",
   "metadata": {
    "Collapsed": "false",
    "id": "answering-bowling"
   },
   "outputs": [],
   "source": [
    "import pandas as pd\n",
    "import numpy as np\n",
    "import matplotlib.pyplot as plt\n",
    "import sklearn\n",
    "from sklearn.metrics import f1_score\n",
    "import pickle\n",
    "np.random.seed(seed=1)"
   ]
  },
  {
   "cell_type": "markdown",
   "id": "occupied-times",
   "metadata": {
    "Collapsed": "false",
    "id": "urban-sequence"
   },
   "source": [
    "# Load The Data"
   ]
  },
  {
   "cell_type": "markdown",
   "id": "another-learning",
   "metadata": {
    "Collapsed": "false",
    "id": "amino-behavior"
   },
   "source": [
    "First, let's load the data:"
   ]
  },
  {
   "cell_type": "code",
   "execution_count": null,
   "id": "eleven-findings",
   "metadata": {
    "Collapsed": "false",
    "id": "challenging-lyric"
   },
   "outputs": [],
   "source": [
    "url_data_train = (r'https://raw.githubusercontent.com/NI-DS/rma_assignment/main/Input/rma_train_data.csv')\n",
    "url_data_test = (r'https://raw.githubusercontent.com/NI-DS/rma_assignment/main/Input/rma_test_data.csv')\n",
    "df_rma_train, df_rma_test = pd.read_csv(url_data_train), pd.read_csv(url_data_test)"
   ]
  },
  {
   "cell_type": "markdown",
   "id": "metric-platinum",
   "metadata": {
    "Collapsed": "false",
    "id": "defensive-thanks"
   },
   "source": [
    "We will now examine the dimensions of the data:"
   ]
  },
  {
   "cell_type": "code",
   "execution_count": 16,
   "id": "elder-point",
   "metadata": {
    "Collapsed": "false",
    "id": "understood-pressure",
    "outputId": "3a8d69ff-e804-4257-95cf-0dbe6967be71"
   },
   "outputs": [
    {
     "data": {
      "text/plain": [
       "((3616, 17), (905, 16))"
      ]
     },
     "execution_count": 16,
     "metadata": {},
     "output_type": "execute_result"
    }
   ],
   "source": [
    "df_rma_train.shape, df_rma_test.shape"
   ]
  },
  {
   "cell_type": "markdown",
   "id": "moved-questionnaire",
   "metadata": {
    "Collapsed": "false",
    "id": "clean-valley"
   },
   "source": [
    "It can be seen that in the train set there is one column more than the test set.\n",
    "\n",
    "We will now print the first five rows of the DataFrame to see the values of the data."
   ]
  },
  {
   "cell_type": "code",
   "execution_count": 17,
   "id": "affecting-conspiracy",
   "metadata": {
    "Collapsed": "false",
    "id": "average-actress",
    "outputId": "c61ce320-6c47-467d-985f-5a77968757a3"
   },
   "outputs": [
    {
     "data": {
      "text/html": [
       "<div>\n",
       "<style scoped>\n",
       "    .dataframe tbody tr th:only-of-type {\n",
       "        vertical-align: middle;\n",
       "    }\n",
       "\n",
       "    .dataframe tbody tr th {\n",
       "        vertical-align: top;\n",
       "    }\n",
       "\n",
       "    .dataframe thead th {\n",
       "        text-align: right;\n",
       "    }\n",
       "</style>\n",
       "<table border=\"1\" class=\"dataframe\">\n",
       "  <thead>\n",
       "    <tr style=\"text-align: right;\">\n",
       "      <th></th>\n",
       "      <th>Test_0</th>\n",
       "      <th>Test_1</th>\n",
       "      <th>Test_2</th>\n",
       "      <th>Test_3</th>\n",
       "      <th>Test_4</th>\n",
       "      <th>Test_5</th>\n",
       "      <th>Test_6</th>\n",
       "      <th>Test_7</th>\n",
       "      <th>Test_8</th>\n",
       "      <th>Test_9</th>\n",
       "      <th>Test_10</th>\n",
       "      <th>Test_11</th>\n",
       "      <th>Test_12</th>\n",
       "      <th>Test_13</th>\n",
       "      <th>Test_14</th>\n",
       "      <th>Test_15</th>\n",
       "      <th>RMA</th>\n",
       "    </tr>\n",
       "  </thead>\n",
       "  <tbody>\n",
       "    <tr>\n",
       "      <th>0</th>\n",
       "      <td>261.36</td>\n",
       "      <td>E</td>\n",
       "      <td>Low</td>\n",
       "      <td>OP-1</td>\n",
       "      <td>True</td>\n",
       "      <td>102.14</td>\n",
       "      <td>False</td>\n",
       "      <td>True</td>\n",
       "      <td>2018.0</td>\n",
       "      <td>58.9</td>\n",
       "      <td>nov</td>\n",
       "      <td>136</td>\n",
       "      <td>1</td>\n",
       "      <td>120</td>\n",
       "      <td>1</td>\n",
       "      <td>TP-1549</td>\n",
       "      <td>False</td>\n",
       "    </tr>\n",
       "    <tr>\n",
       "      <th>1</th>\n",
       "      <td>268.62</td>\n",
       "      <td>H</td>\n",
       "      <td>Mid</td>\n",
       "      <td>OP-17</td>\n",
       "      <td>True</td>\n",
       "      <td>655.42</td>\n",
       "      <td>False</td>\n",
       "      <td>True</td>\n",
       "      <td>2018.0</td>\n",
       "      <td>62.0</td>\n",
       "      <td>apr</td>\n",
       "      <td>114</td>\n",
       "      <td>1</td>\n",
       "      <td>152</td>\n",
       "      <td>2</td>\n",
       "      <td>TP-1549</td>\n",
       "      <td>False</td>\n",
       "    </tr>\n",
       "    <tr>\n",
       "      <th>2</th>\n",
       "      <td>297.66</td>\n",
       "      <td>F</td>\n",
       "      <td>Low</td>\n",
       "      <td>OP-1</td>\n",
       "      <td>True</td>\n",
       "      <td>605.50</td>\n",
       "      <td>False</td>\n",
       "      <td>False</td>\n",
       "      <td>2018.0</td>\n",
       "      <td>65.1</td>\n",
       "      <td>nov</td>\n",
       "      <td>285</td>\n",
       "      <td>3</td>\n",
       "      <td>116</td>\n",
       "      <td>4</td>\n",
       "      <td>TP-1549</td>\n",
       "      <td>False</td>\n",
       "    </tr>\n",
       "    <tr>\n",
       "      <th>3</th>\n",
       "      <td>515.46</td>\n",
       "      <td>NaN</td>\n",
       "      <td>Low</td>\n",
       "      <td>OP-17</td>\n",
       "      <td>True</td>\n",
       "      <td>144.78</td>\n",
       "      <td>True</td>\n",
       "      <td>True</td>\n",
       "      <td>2018.0</td>\n",
       "      <td>83.7</td>\n",
       "      <td>jan</td>\n",
       "      <td>208</td>\n",
       "      <td>1</td>\n",
       "      <td>93</td>\n",
       "      <td>2</td>\n",
       "      <td>TP-1549</td>\n",
       "      <td>False</td>\n",
       "    </tr>\n",
       "    <tr>\n",
       "      <th>4</th>\n",
       "      <td>290.40</td>\n",
       "      <td>D</td>\n",
       "      <td>Low</td>\n",
       "      <td>OP-4</td>\n",
       "      <td>True</td>\n",
       "      <td>416.22</td>\n",
       "      <td>False</td>\n",
       "      <td>True</td>\n",
       "      <td>2019.0</td>\n",
       "      <td>37.2</td>\n",
       "      <td>may</td>\n",
       "      <td>58</td>\n",
       "      <td>2</td>\n",
       "      <td>334</td>\n",
       "      <td>1</td>\n",
       "      <td>TP-1549</td>\n",
       "      <td>False</td>\n",
       "    </tr>\n",
       "  </tbody>\n",
       "</table>\n",
       "</div>"
      ],
      "text/plain": [
       "   Test_0 Test_1 Test_2 Test_3  Test_4  Test_5  Test_6  Test_7  Test_8  \\\n",
       "0  261.36      E    Low   OP-1    True  102.14   False    True  2018.0   \n",
       "1  268.62      H    Mid  OP-17    True  655.42   False    True  2018.0   \n",
       "2  297.66      F    Low   OP-1    True  605.50   False   False  2018.0   \n",
       "3  515.46    NaN    Low  OP-17    True  144.78    True    True  2018.0   \n",
       "4  290.40      D    Low   OP-4    True  416.22   False    True  2019.0   \n",
       "\n",
       "   Test_9 Test_10  Test_11  Test_12  Test_13  Test_14  Test_15    RMA  \n",
       "0    58.9     nov      136        1      120        1  TP-1549  False  \n",
       "1    62.0     apr      114        1      152        2  TP-1549  False  \n",
       "2    65.1     nov      285        3      116        4  TP-1549  False  \n",
       "3    83.7     jan      208        1       93        2  TP-1549  False  \n",
       "4    37.2     may       58        2      334        1  TP-1549  False  "
      ]
     },
     "execution_count": 17,
     "metadata": {},
     "output_type": "execute_result"
    }
   ],
   "source": [
    "df_rma_train.head()"
   ]
  },
  {
   "cell_type": "code",
   "execution_count": 18,
   "id": "celtic-seventh",
   "metadata": {
    "Collapsed": "false",
    "id": "noble-cannon",
    "outputId": "66310504-63f1-4db9-82a3-c1972ed17979"
   },
   "outputs": [
    {
     "data": {
      "text/html": [
       "<div>\n",
       "<style scoped>\n",
       "    .dataframe tbody tr th:only-of-type {\n",
       "        vertical-align: middle;\n",
       "    }\n",
       "\n",
       "    .dataframe tbody tr th {\n",
       "        vertical-align: top;\n",
       "    }\n",
       "\n",
       "    .dataframe thead th {\n",
       "        text-align: right;\n",
       "    }\n",
       "</style>\n",
       "<table border=\"1\" class=\"dataframe\">\n",
       "  <thead>\n",
       "    <tr style=\"text-align: right;\">\n",
       "      <th></th>\n",
       "      <th>Test_0</th>\n",
       "      <th>Test_1</th>\n",
       "      <th>Test_2</th>\n",
       "      <th>Test_3</th>\n",
       "      <th>Test_4</th>\n",
       "      <th>Test_5</th>\n",
       "      <th>Test_6</th>\n",
       "      <th>Test_7</th>\n",
       "      <th>Test_8</th>\n",
       "      <th>Test_9</th>\n",
       "      <th>Test_10</th>\n",
       "      <th>Test_11</th>\n",
       "      <th>Test_12</th>\n",
       "      <th>Test_13</th>\n",
       "      <th>Test_14</th>\n",
       "      <th>Test_15</th>\n",
       "    </tr>\n",
       "  </thead>\n",
       "  <tbody>\n",
       "    <tr>\n",
       "      <th>0</th>\n",
       "      <td>268.62</td>\n",
       "      <td>C</td>\n",
       "      <td>Low</td>\n",
       "      <td>OP-17</td>\n",
       "      <td>True</td>\n",
       "      <td>1116.14</td>\n",
       "      <td>False</td>\n",
       "      <td>True</td>\n",
       "      <td>2018.0</td>\n",
       "      <td>6.2</td>\n",
       "      <td>feb</td>\n",
       "      <td>289</td>\n",
       "      <td>2</td>\n",
       "      <td>174</td>\n",
       "      <td>4</td>\n",
       "      <td>TP-9941</td>\n",
       "    </tr>\n",
       "    <tr>\n",
       "      <th>1</th>\n",
       "      <td>268.62</td>\n",
       "      <td>D</td>\n",
       "      <td>Low</td>\n",
       "      <td>OP-4</td>\n",
       "      <td>True</td>\n",
       "      <td>53.00</td>\n",
       "      <td>False</td>\n",
       "      <td>True</td>\n",
       "      <td>2018.0</td>\n",
       "      <td>18.6</td>\n",
       "      <td>may</td>\n",
       "      <td>226</td>\n",
       "      <td>1</td>\n",
       "      <td>363</td>\n",
       "      <td>3</td>\n",
       "      <td>TP-9941</td>\n",
       "    </tr>\n",
       "    <tr>\n",
       "      <th>2</th>\n",
       "      <td>246.84</td>\n",
       "      <td>D</td>\n",
       "      <td>Low</td>\n",
       "      <td>OP-1</td>\n",
       "      <td>True</td>\n",
       "      <td>275.56</td>\n",
       "      <td>False</td>\n",
       "      <td>True</td>\n",
       "      <td>2018.0</td>\n",
       "      <td>62.0</td>\n",
       "      <td>apr</td>\n",
       "      <td>470</td>\n",
       "      <td>1</td>\n",
       "      <td>150</td>\n",
       "      <td>5</td>\n",
       "      <td>TP-9941</td>\n",
       "    </tr>\n",
       "    <tr>\n",
       "      <th>3</th>\n",
       "      <td>333.96</td>\n",
       "      <td>B</td>\n",
       "      <td>Low</td>\n",
       "      <td>OP-1</td>\n",
       "      <td>True</td>\n",
       "      <td>53.00</td>\n",
       "      <td>False</td>\n",
       "      <td>True</td>\n",
       "      <td>2018.0</td>\n",
       "      <td>68.2</td>\n",
       "      <td>jun</td>\n",
       "      <td>154</td>\n",
       "      <td>1</td>\n",
       "      <td>124</td>\n",
       "      <td>1</td>\n",
       "      <td>TP-9941</td>\n",
       "    </tr>\n",
       "    <tr>\n",
       "      <th>4</th>\n",
       "      <td>261.36</td>\n",
       "      <td>B</td>\n",
       "      <td>Mid</td>\n",
       "      <td>OP-1</td>\n",
       "      <td>True</td>\n",
       "      <td>438.32</td>\n",
       "      <td>False</td>\n",
       "      <td>True</td>\n",
       "      <td>2018.0</td>\n",
       "      <td>55.8</td>\n",
       "      <td>nov</td>\n",
       "      <td>177</td>\n",
       "      <td>2</td>\n",
       "      <td>174</td>\n",
       "      <td>1</td>\n",
       "      <td>TP-9941</td>\n",
       "    </tr>\n",
       "  </tbody>\n",
       "</table>\n",
       "</div>"
      ],
      "text/plain": [
       "   Test_0 Test_1 Test_2 Test_3  Test_4   Test_5  Test_6  Test_7  Test_8  \\\n",
       "0  268.62      C    Low  OP-17    True  1116.14   False    True  2018.0   \n",
       "1  268.62      D    Low   OP-4    True    53.00   False    True  2018.0   \n",
       "2  246.84      D    Low   OP-1    True   275.56   False    True  2018.0   \n",
       "3  333.96      B    Low   OP-1    True    53.00   False    True  2018.0   \n",
       "4  261.36      B    Mid   OP-1    True   438.32   False    True  2018.0   \n",
       "\n",
       "   Test_9 Test_10  Test_11  Test_12  Test_13  Test_14  Test_15  \n",
       "0     6.2     feb      289        2      174        4  TP-9941  \n",
       "1    18.6     may      226        1      363        3  TP-9941  \n",
       "2    62.0     apr      470        1      150        5  TP-9941  \n",
       "3    68.2     jun      154        1      124        1  TP-9941  \n",
       "4    55.8     nov      177        2      174        1  TP-9941  "
      ]
     },
     "execution_count": 18,
     "metadata": {},
     "output_type": "execute_result"
    }
   ],
   "source": [
    "df_rma_test.head()"
   ]
  },
  {
   "cell_type": "markdown",
   "id": "obvious-sentence",
   "metadata": {
    "Collapsed": "false",
    "id": "dated-emergency"
   },
   "source": [
    "As you can see there are 16 independent variables all 'Test_i' (i: 0-15) columns, and one variable is dependent, 'RMA' column.\n",
    "\n",
    "The purpose of the assignment is to predict the value of the 'RMA' variable according to the value of the other variables in the data. Please remember to use visualizations, explain the actions you perform by comments and show your workflow clearly.\n",
    "\n",
    "Note that the test set has no labels. Your project is to build a machine learning model that will predict the labels for it."
   ]
  },
  {
   "cell_type": "markdown",
   "id": "affected-stone",
   "metadata": {
    "Collapsed": "false",
    "id": "guilty-schedule"
   },
   "source": [
    "# Exploratory Data Analysis (EDA)"
   ]
  },
  {
   "cell_type": "markdown",
   "id": "traditional-seating",
   "metadata": {
    "Collapsed": "false",
    "id": "respective-holder"
   },
   "source": [
    "## What is EDA? \n",
    "\n",
    "Exploratory Data Analysis: this is unavoidable and one of the major step to fine-tune the given data set(s) in a different form of analysis to understand the insights of the key characteristics of various entities of the data set like column(s), row(s) by applying Pandas, NumPy, Statistical Methods, and Data visualization packages. EDA process should make you familiar with your data set.\n",
    "\n",
    "- Outcome of this phase can be but not limited to:\n",
    "\n",
    "    - Dataset charechtaristics.\n",
    "    - Features relationship.\n",
    "    - Target ('RMA' column) insights. \n",
    "    - Any interesting thing you can learn about the dataset.\n",
    "    \n",
    "**Goal of this phase is to implement EDA process for RMA data set**"
   ]
  },
  {
   "cell_type": "code",
   "execution_count": 19,
   "id": "prepared-indicator",
   "metadata": {
    "Collapsed": "false",
    "id": "legitimate-custom"
   },
   "outputs": [],
   "source": [
    "### Your code here"
   ]
  },
  {
   "cell_type": "markdown",
   "id": "diagnostic-richmond",
   "metadata": {
    "Collapsed": "false",
    "id": "alpha-spare"
   },
   "source": [
    "# Data pre-processing"
   ]
  },
  {
   "cell_type": "markdown",
   "id": "fleet-economics",
   "metadata": {
    "Collapsed": "false",
    "id": "built-liechtenstein"
   },
   "source": [
    "## Data preprocessing is a key step in Machine Learning Pipeline.\n",
    "\n",
    "Quality of data directly affects the ability of a model to learn useful information out of it.\n",
    "\n",
    "Therefore, it is extremely important that we preprocess our data before feeding it into a model.\n",
    "\n",
    "In this step use your conclusions from the previous phase in order to apply them to the data.\n",
    "\n",
    "    \n",
    "**Goal of this phase is prepare RMA data set to be used to build a machine learning model**"
   ]
  },
  {
   "cell_type": "code",
   "execution_count": 20,
   "id": "julian-journey",
   "metadata": {
    "Collapsed": "false",
    "id": "literary-cause"
   },
   "outputs": [],
   "source": [
    "### Your code here"
   ]
  },
  {
   "cell_type": "markdown",
   "id": "informational-lewis",
   "metadata": {
    "Collapsed": "false",
    "id": "greenhouse-frame"
   },
   "source": [
    "# Build a ML/DL model"
   ]
  },
  {
   "cell_type": "markdown",
   "id": "overhead-humor",
   "metadata": {
    "Collapsed": "false",
    "id": "binding-portal",
    "tags": []
   },
   "source": [
    "Build any model/s you find useful to solve the task and evaluate its performance results.\n",
    "\n",
    "Use the metric f1_score imported above and use it to measure the performance of your model. (positive class is RMA unit (RMA = True))\n",
    "\n",
    "It is recommended to try different models and techniques and compare the results\n",
    "\n",
    "- Outcome of this phase can be but not limited to:\n",
    "\n",
    "  -\tTrain model/s on data set you prepared in previous phase\n",
    "  -\tFeatures engineering\n",
    "  -\tFeatures selection\n",
    "  -\tHyper-parameters optimization\n",
    "  -\tModel/s results evaluation including performance metric/s values\n",
    "\n",
    "\n",
    "**Goal of this phase is to see your machine learning experimentation skills toward achieving as best model/s as you can**"
   ]
  },
  {
   "cell_type": "code",
   "execution_count": 21,
   "id": "infectious-editing",
   "metadata": {
    "Collapsed": "false",
    "id": "friendly-version"
   },
   "outputs": [],
   "source": [
    "### Your code here"
   ]
  },
  {
   "cell_type": "markdown",
   "id": "minute-rolling",
   "metadata": {
    "Collapsed": "false",
    "id": "ready-hampton"
   },
   "source": [
    "# Model Interpretation"
   ]
  },
  {
   "cell_type": "markdown",
   "id": "potential-advancement",
   "metadata": {
    "Collapsed": "false",
    "id": "national-inquiry"
   },
   "source": [
    "**Here is the place to interpret your model**\n",
    "\n",
    "- Outcome of this phase can be but not limited to:\n",
    "\n",
    "    - Confusion Matrix\n",
    "    - Features Importance\n",
    "    - Business Insights\n",
    "\n",
    "**Goal of this phase is to interpret your best model/s you found in previous phase** "
   ]
  },
  {
   "cell_type": "code",
   "execution_count": 22,
   "id": "central-consent",
   "metadata": {
    "Collapsed": "false",
    "id": "nervous-bullet"
   },
   "outputs": [],
   "source": [
    "### Your code here"
   ]
  },
  {
   "cell_type": "markdown",
   "id": "resident-minneapolis",
   "metadata": {
    "Collapsed": "false",
    "id": "thirty-exploration"
   },
   "source": [
    "# Something to think about:"
   ]
  },
  {
   "cell_type": "markdown",
   "id": "indian-folder",
   "metadata": {
    "Collapsed": "false",
    "id": "wireless-binding"
   },
   "source": [
    "- Why is the selected metric f1_score?\n",
    "- Are there metrics that you think would better suit this problem or data?\n",
    "- What metrics are not appropriate for such a problem?"
   ]
  },
  {
   "cell_type": "markdown",
   "id": "domestic-rapid",
   "metadata": {
    "Collapsed": "false",
    "id": "declared-transcription"
   },
   "source": [
    "# Predict on the test and export the model"
   ]
  },
  {
   "cell_type": "code",
   "execution_count": null,
   "id": "major-reception",
   "metadata": {
    "Collapsed": "false",
    "id": "cutting-consideration"
   },
   "outputs": [],
   "source": [
    "my_model = ...\n",
    "my_prediction = my_model.predict(df_rma_test)\n",
    "my_prediction.to_csv('my_prediction.csv', index = False)\n",
    "with open('my_model.pkl', 'wb') as f:\n",
    "    pickle.dump(my_model, f)"
   ]
  },
  {
   "cell_type": "markdown",
   "id": "heard-turkey",
   "metadata": {
    "Collapsed": "false",
    "id": "immediate-meeting"
   },
   "source": [
    "**Well done!!**\n",
    "\n",
    "Congratulations!!! You are almost done.Please , pack your notebook, model and prediction file in one zip file and send us back through the e-mail which you received the assignment."
   ]
  }
 ],
 "metadata": {
  "colab": {
   "name": "RMA Assignment.ipynb",
   "provenance": []
  },
  "kernelspec": {
   "display_name": "Python 3",
   "language": "python",
   "name": "python3"
  },
  "language_info": {
   "codemirror_mode": {
    "name": "ipython",
    "version": 3
   },
   "file_extension": ".py",
   "mimetype": "text/x-python",
   "name": "python",
   "nbconvert_exporter": "python",
   "pygments_lexer": "ipython3",
   "version": "3.7.4"
  }
 },
 "nbformat": 4,
 "nbformat_minor": 5
}
